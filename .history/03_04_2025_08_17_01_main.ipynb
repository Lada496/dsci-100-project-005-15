{
 "cells": [
  {
   "cell_type": "markdown",
   "id": "81da82b9-98e3-49ec-8a8e-48a0107ceafd",
   "metadata": {},
   "source": [
    "# Predicting Subscription Status Based on Played Hours and Age"
   ]
  },
  {
   "cell_type": "markdown",
   "id": "7936d345-b33b-45ce-bb0d-4727b4aadb95",
   "metadata": {},
   "source": [
    "## Introduction\n",
    "In this assignment we will be analyzying the study done by a group in the computer science department of UBC, led by Frank Wood. The department made a game like minecraft and used it to conduct the study. The department recorded players actions as they navigated the world. For this project, we asked what type of a player is most likey to subscribe. We used the players dataset to analyze and predict this subscription likelihood. The dataset consists of 196 observations and the variables are experience, played_hours, gender, and age. The experience variable tells us players skill level. The played_hours variable measures how long a player has played the game. Demographic variables like gender and age are also included in the dataset, although there are some missing values for age. We are using the two variables “played hours” and “age” to predict the subscription status in the players dataset."
   ]
  },
  {
   "cell_type": "markdown",
   "id": "f94f3410-8ad4-4c6f-bbc2-3b768d7b71e5",
   "metadata": {},
   "source": [
    "## Method & Result\n",
    "\n",
    "### Explanatory Analysis: Data description\n",
    "A research group in Computer Science at UBC, led by Frank Wood, collected the player's profile and actions with the following format.\n",
    "#### Players\n",
    "There are 196 players provided with the following variables. Some categories in gender, such as Agender or Other, have a small number of samples, which might not be enough to perform accurate classification based only on these data. In addition, Age has 2 N/As, which might cause a reduction in sample size due to skipping these data.\n",
    "\n",
    "|**Variable Names**| **Type**  |**Unique Values**| **Min**| **Max**| **Mean**|**NAs**|\n",
    "|------------------|-----------|-----------------|--------|--------|---------|-------|\n",
    "|experience        |categorical|- Amateur(63)<br> - Beginner(35)<br> - Pro(14)<br> - Regular(36)<br> -Veteran(48)               |-       |-       |-        |0      |\n",
    "|subscribe         |categorigal|- TRUE (144)<br> -FALSE (52)       |-       |-       |-        |0      |\n",
    "|hashedEmail       |String     |-                |-       |-       |-        |0      |\n",
    "|played_hours      |numerical  |-                |0.000   |223.100 |5.846    |0      |\n",
    "|name              |String     |-                |-       |-       |-        |0      |\n",
    "|gender            |categorical|-Agender(2)<br> -Female(37)<br> - Male(124)<br> - Non-binary(15)<br> - Other(1)<br> - Prefer not to say(11)<br> - Two-Spirited(6)                 |-       |-       |-        |0      |\n",
    "|Age               |numerical  |-                |8       |50      |20.52    |2      |,"
   ]
  },
  {
   "cell_type": "code",
   "execution_count": null,
   "id": "a1798bd9-2558-4c06-b6fc-d1f5d225e43d",
   "metadata": {},
   "outputs": [],
   "source": [
    "# set up\n",
    "library(tidyverse)\n",
    "library(readr)\n",
    "library(repr)\n",
    "\n",
    "# Getting data\n",
    "url_player <- \"https://raw.githubusercontent.com/Lada496/self-report/main/data/players.csv\"\n",
    "players <- read_csv(url_player)\n",
    "\n",
    "table(players$experience)\n",
    "table(players$gender)\n",
    "n_distinct(players$hashedEmail) "
   ]
  },
  {
   "cell_type": "markdown",
   "id": "665521f5-aa9f-46f1-9f47-8d015e43647d",
   "metadata": {},
   "source": [
    "### Player Summary Table\n",
    "|**variable name**|**mean**|\n",
    "|-----------------|--------|\n",
    "| played_hours    |5.845918|\n",
    "| Age             |20.52062|\n"
   ]
  },
  {
   "cell_type": "code",
   "execution_count": null,
   "id": "a269f3a1-c62a-4312-a705-5a7ddd9db09e",
   "metadata": {},
   "outputs": [],
   "source": [
    "summary(players)"
   ]
  },
  {
   "cell_type": "markdown",
   "id": "3558880b-3f94-4475-8013-de4e01d13d7b",
   "metadata": {},
   "source": [
    "### Insights from plots\n",
    "Plot 1 shows that the majority of people played approximately less than 5 hours. There are no non-subscribers who played more than 12 hours, which suggests that playing time could tell who is more likely a subscriber. However, this plot suggests that there is no clue to tell if players who played less than 5 hours are subscribers or not solely with played time. Plot 2 shows that more varieties compared to Plot 1. Overall, the older, the less likely to be subscribers. Last plot shows the relationship between age and playing time, grouping by subscription status. It shows younger people play more and subscribe more than older people in general. One concern is that a large amount of points lie on the 0 hours regardless of subscription status, which might cause low accuracy of prediction."
   ]
  },
  {
   "cell_type": "code",
   "execution_count": null,
   "id": "bf3860ab-652b-4501-b934-91f318ecc43d",
   "metadata": {},
   "outputs": [],
   "source": [
    "# Compute the mean value for each quantitative variable\n",
    "players_quantitative <- players |> select(played_hours, Age) |>\n",
    "    map_df(mean, na.rm = TRUE)\n",
    "\n",
    "# plots\n",
    "hours_hist <- ggplot(players, aes(x = played_hours, fill = subscribe)) + \n",
    "    geom_histogram()+\n",
    "    labs(x = \"Played Time (hours)\", fill = \"Subscription Status\")+\n",
    "    ggtitle(\"Plot 1: Played Time distrubution with subscription status\")+\n",
    "    theme(plot.title = element_text(size = 18, hjust = 0.5),\n",
    "            plot.margin = margin(t = 20, r = 10, b = 10, l = 30))\n",
    "hours_hist\n",
    "age_hist <- ggplot(players, aes(x = Age, fill = subscribe)) +\n",
    "    geom_histogram()+\n",
    "    labs(x = \"Age\", fill = \"Subscription Status\")+\n",
    "    ggtitle(\"Plot 2: Age distrubution with subscription status\")+\n",
    "    theme(plot.title = element_text(size = 18, hjust = 0.5),\n",
    "            plot.margin = margin(t = 20, r = 10, b = 10, l = 10))\n",
    "\n",
    "age_hist\n",
    "\n",
    "players <- players |>\n",
    "    mutate(subscribe=as_factor(subscribe))\n",
    "\n",
    "players_plot <- players |>\n",
    "    ggplot(aes(x = Age, y= played_hours, color = subscribe)) +\n",
    "    geom_point(alpha = 0.4) + \n",
    "    labs(x = \"Age\", y = \"played time (hours)\", color = \"Subscription Status\") +\n",
    "    ggtitle(\"Plot 3: The relationship between age and played hours\") +\n",
    "    theme(plot.title = element_text(size = 18, hjust = 0.5),\n",
    "            plot.margin = margin(t = 20, r = 10, b = 10, l = 30))\n",
    "\n",
    "players_plot"
   ]
  },
  {
   "cell_type": "markdown",
   "id": "1396149c-1e91-43d3-ae74-ea4cca033985",
   "metadata": {},
   "source": [
    "### Methods and Plan\n",
    "\n",
    "Since the question tries to determine whether a person subscribes to Minecraft, we can conduct a k-nearest classification analysis. \n",
    "\n",
    "#### Tuning nearest k\n",
    "##### Splitting data into two sets: training and testing\n",
    "To tune the best k, we will conduct cross-validation by splitting the data into two sets: training data and testing data with `initial_split`, `training` and `testing`. The proportion should 75% and `strata` is `subscribe`.\n",
    "The data columns should be correctly selected before splitting the data. In this case, played_hours, age, and subscribe should be chosen.\n",
    "\n",
    "##### Create recipe\n",
    "The response variable is `subscribe,` and the predictors are `age` and `played_hours`. Since the data columns are already selected, `all_predictors()` is chosen for `step_scale` and `step_center`.\n",
    "\n",
    "##### specification with tune()\n",
    "To conduct cross-validation, we'll define the model specification with `nearest_neighbor` and set `tune()` as `neighbors`.\n",
    "\n",
    "##### Getting five folds\n",
    "Then, we'll split the data into five folds with `vfold_cv`, setting `subscribe` to `strata`.\n",
    "\n",
    "##### Getting metrics to check accuracy\n",
    "Collect metrics with `collect_metrics()` after fitting models with the code below:\n",
    "\n",
    "```R\n",
    "vfold_metrics <- workflow() |>\n",
    "                  add_recipe(players_recipe) |>\n",
    "                  add_model(knn_spec) |>\n",
    "                  fit_resamples(resamples = players_vfold) |>\n",
    "                  collect_metrics()\n",
    "```\n",
    "Then, plot the accuracy vs k and find the best k. Also, the code can pull the best k.\n",
    "```R\n",
    "accuracies <- vfold_metrics |>\n",
    "  filter(.metric == \"accuracy\")\n",
    "\n",
    "best_k <- accuracies |>\n",
    "        arrange(desc(mean)) |>\n",
    "        head(1) |>\n",
    "        pull(neighbors)\n",
    "best_k\n",
    "```\n",
    "##### Fit with the best k and evaluate values with confusion matrix\n",
    "Finally, we obtained the confusion matrix with `conf_mat` and computed accuracy, precision and recall to evaluate the model."
   ]
  },
  {
   "cell_type": "markdown",
   "id": "8e2bb7ae-81a1-4ec0-88f0-f3e011ee7f36",
   "metadata": {},
   "source": [
    "### Results\n",
    "\n",
    "#### Choosing the best k\n",
    "First we splitted players into two sets: `players_train` and `players_tes`. We used `tidymodels` to conduct classification analysis. We first selected three covariates: `subscribe`, `played_hours`, and `Age`."
   ]
  },
  {
   "cell_type": "code",
   "execution_count": null,
   "id": "7ab255be-93a5-4c89-b871-69feb24fee42",
   "metadata": {},
   "outputs": [],
   "source": [
    "players <- players |> select(subscribe, played_hours, Age)"
   ]
  },
  {
   "cell_type": "code",
   "execution_count": null,
   "id": "703c6cfe-cf00-4f37-8c7e-d38126d23b62",
   "metadata": {},
   "outputs": [],
   "source": [
    "library(tidymodels)\n",
    "players_split <- initial_split(players, prop = 0.75, strata = subscribe)  \n",
    "players_train <- training(players_split)   \n",
    "players_test <- testing(players_split)\n",
    "\n",
    "nrow(players_train)"
   ]
  },
  {
   "cell_type": "markdown",
   "id": "c8c63040-9e76-4058-b92c-daa81d557a30",
   "metadata": {},
   "source": [
    "Then, we created `players_recipe` and `players_spec` with the following code."
   ]
  },
  {
   "cell_type": "code",
   "execution_count": null,
   "id": "2353f80c-0625-4ed8-ad29-40d4d4d77c25",
   "metadata": {},
   "outputs": [],
   "source": [
    "players_recipe <- recipe(subscribe ~ Age + played_hours , data = players_train) |>\n",
    "    step_scale(all_predictors()) |> \n",
    "    step_center(all_predictors())\n",
    "\n",
    "players_spec <- nearest_neighbor(weight_func = \"rectangular\", neighbors = tune()) |>\n",
    "       set_engine(\"kknn\") |>\n",
    "       set_mode(\"classification\")"
   ]
  },
  {
   "cell_type": "markdown",
   "id": "d6eccc04-15a8-427f-9e3d-d5e49eae5e94",
   "metadata": {},
   "source": [
    "To perform 5-fold cross-validation in R with tidymodels, we used `vfold_cv`."
   ]
  },
  {
   "cell_type": "code",
   "execution_count": null,
   "id": "d7d657bf-87fc-46a9-98b4-2f231a2ce6d1",
   "metadata": {},
   "outputs": [],
   "source": [
    "players_vfold <- vfold_cv(players_train, v = 5, strata = subscribe)"
   ]
  },
  {
   "cell_type": "markdown",
   "id": "651f765b-5618-41bf-b835-214dc38924f8",
   "metadata": {},
   "source": [
    "Then, we obtained metrics to find the best with the following code."
   ]
  },
  {
   "cell_type": "code",
   "execution_count": null,
   "id": "3f9ce4cc-fcb7-4bbc-87e2-2a24fb596544",
   "metadata": {},
   "outputs": [],
   "source": [
    "k_vals <- tibble(neighbors = seq(from = 1, to = 10, by = 1))\n",
    "\n",
    "vfold_metrics <- workflow() |>\n",
    "                  add_recipe(players_recipe) |>\n",
    "                  add_model(players_spec) |>\n",
    "                  tune_grid(resamples = players_vfold, grid = k_vals) |>\n",
    "                  collect_metrics()"
   ]
  },
  {
   "cell_type": "markdown",
   "id": "44dc1a17-53fc-4334-8baa-b938680fe83b",
   "metadata": {},
   "source": [
    "We filtered `vfold_metrics` to get `accuracy` with the code below."
   ]
  },
  {
   "cell_type": "code",
   "execution_count": null,
   "id": "37d4971b-fbbe-425e-b0bb-51c83157df50",
   "metadata": {},
   "outputs": [],
   "source": [
    "accuracies <- vfold_metrics |>\n",
    "  filter(.metric == \"accuracy\")"
   ]
  },
  {
   "cell_type": "markdown",
   "id": "d328e223-2f93-4ff6-84e3-5efabd5d9a50",
   "metadata": {},
   "source": [
    "As the plot shows, k = 5 and k = 6 have the same accuracy; we chose 5 for the rest of the analysis."
   ]
  },
  {
   "cell_type": "code",
   "execution_count": null,
   "id": "ca1d276b-8832-493e-a79a-8faa025ad571",
   "metadata": {},
   "outputs": [],
   "source": [
    "accuracy_versus_k  <- ggplot(accuracies, aes(x = neighbors, y = mean))+\n",
    "      geom_point() +\n",
    "      geom_line() +\n",
    "      labs(x = \"Neighbors\", y = \"Accuracy Estimate\") +\n",
    "      scale_x_continuous(breaks = seq(0, 14, by = 1)) +  \n",
    "      scale_y_continuous(limits = c(0.4, 1.0)) \n",
    "accuracy_versus_k"
   ]
  },
  {
   "cell_type": "code",
   "execution_count": null,
   "id": "42d82282-17d5-49b0-b0e1-a9a21291f703",
   "metadata": {},
   "outputs": [],
   "source": [
    "best_k <- accuracies |>\n",
    "        arrange(desc(mean)) |>\n",
    "        head(1) |>\n",
    "        pull(neighbors)\n",
    "best_k"
   ]
  },
  {
   "cell_type": "markdown",
   "id": "f6f05258-0733-452f-add4-a7e416a4536e",
   "metadata": {},
   "source": [
    "### Classification analysis with k = 5\n",
    "Then, we repeated the same process with k = 5."
   ]
  },
  {
   "cell_type": "code",
   "execution_count": null,
   "id": "cd2cc961-df06-466c-9fe7-41b6661ab28c",
   "metadata": {},
   "outputs": [],
   "source": [
    "players_spec <- nearest_neighbor(weight_func = \"rectangular\", neighbors = 5) |>\n",
    "       set_engine(\"kknn\") |>\n",
    "       set_mode(\"classification\")\n",
    "\n",
    "players_recipe <- recipe(subscribe ~ Age + played_hours, data = players_train) |>\n",
    "    step_impute_median(all_predictors()) |>\n",
    "    step_scale(all_predictors()) |> \n",
    "    step_center(all_predictors())\n",
    "\n",
    "players_fit_best <- workflow() |>\n",
    "                  add_recipe(players_recipe) |>\n",
    "                  add_model(players_spec) |>\n",
    "                  fit(players_train)"
   ]
  },
  {
   "cell_type": "markdown",
   "id": "1c2f5094-2844-4d73-8458-b75f42d0964f",
   "metadata": {},
   "source": [
    "Then, we predicted that with new model."
   ]
  },
  {
   "cell_type": "code",
   "execution_count": null,
   "id": "d327e21d-7f0f-4789-b221-3b9ed0b426af",
   "metadata": {},
   "outputs": [],
   "source": [
    "player_predictions <- predict(players_fit_best, players_test) |>\n",
    "      bind_cols(players_test)"
   ]
  },
  {
   "cell_type": "code",
   "execution_count": null,
   "id": "96b65cb7-7abd-436d-9604-8c653d4d24ec",
   "metadata": {},
   "outputs": [],
   "source": [
    "Then, we obtained the accuracy and confusion matrix with the following code."
   ]
  },
  {
   "cell_type": "code",
   "execution_count": null,
   "id": "5a875e2e-c41f-4424-849d-2b2d599fc44d",
   "metadata": {},
   "outputs": [],
   "source": [
    "player_prediction_accuracy <- player_predictions |>\n",
    "        metrics(truth = subscribe, estimate = .pred_class)  \n",
    "\n",
    "player_prediction_accuracy\n",
    "\n",
    "player_mat <- player_predictions |> \n",
    "      conf_mat(truth = subscribe, estimate = .pred_class)\n",
    "player_mat\n"
   ]
  },
  {
   "cell_type": "code",
   "execution_count": null,
   "id": "1b37933b-11d6-49f2-9d36-10d45ec51748",
   "metadata": {},
   "outputs": [],
   "source": []
  }
 ],
 "metadata": {
  "kernelspec": {
   "display_name": "R",
   "language": "R",
   "name": "ir"
  },
  "language_info": {
   "codemirror_mode": "r",
   "file_extension": ".r",
   "mimetype": "text/x-r-source",
   "name": "R",
   "pygments_lexer": "r",
   "version": "4.3.3"
  }
 },
 "nbformat": 4,
 "nbformat_minor": 5
}
